{
  "nbformat": 4,
  "nbformat_minor": 0,
  "metadata": {
    "colab": {
      "name": "Week 03 Class - NumPy.ipynb",
      "provenance": [],
      "collapsed_sections": [],
      "toc_visible": true
    },
    "kernelspec": {
      "name": "python3",
      "display_name": "Python 3"
    }
  },
  "cells": [
    {
      "cell_type": "markdown",
      "metadata": {
        "id": "MHE4d-Ptt9Wh"
      },
      "source": [
        "## Import NumPy"
      ]
    },
    {
      "cell_type": "code",
      "metadata": {
        "id": "Eq5fIicst5O1"
      },
      "source": [
        "import numpy as np"
      ],
      "execution_count": 2,
      "outputs": []
    },
    {
      "cell_type": "markdown",
      "metadata": {
        "id": "UmmODwnnuB8M"
      },
      "source": [
        "## Create NumPy arrays"
      ]
    },
    {
      "cell_type": "markdown",
      "metadata": {
        "id": "jPiQM5eyuksQ"
      },
      "source": [
        "### Create following 1d arrays\n",
        "\n",
        "```\n",
        "array([0, 1, 2, 3, 4, 5, 6, 7, 8, 9])\n",
        "\n",
        "array([  1,   2,   3,   4,   5,   6,   7,   8,   9,  10,  11,  12,  13,\n",
        "        14,  15,  16,  17,  18,  19,  20,  21,  22,  23,  24,  25,  26,\n",
        "        27,  28,  29,  30,  31,  32,  33,  34,  35,  36,  37,  38,  39,\n",
        "        40,  41,  42,  43,  44,  45,  46,  47,  48,  49,  50,  51,  52,\n",
        "        53,  54,  55,  56,  57,  58,  59,  60,  61,  62,  63,  64,  65,\n",
        "        66,  67,  68,  69,  70,  71,  72,  73,  74,  75,  76,  77,  78,\n",
        "        79,  80,  81,  82,  83,  84,  85,  86,  87,  88,  89,  90,  91,\n",
        "        92,  93,  94,  95,  96,  97,  98,  99, 100])\n",
        "\n",
        "array([1., 1., 1., 1., 1.])\n",
        "\n",
        "```\n"
      ]
    },
    {
      "cell_type": "code",
      "metadata": {
        "id": "_JDeQYayuWyQ",
        "outputId": "ff392081-9048-4814-a22a-a0abe1990541",
        "colab": {
          "base_uri": "https://localhost:8080/",
          "height": 151
        }
      },
      "source": [
        "arr_1 = np.arange(1,101,dtype=int)\n",
        "arr_1"
      ],
      "execution_count": null,
      "outputs": [
        {
          "output_type": "execute_result",
          "data": {
            "text/plain": [
              "array([  1,   2,   3,   4,   5,   6,   7,   8,   9,  10,  11,  12,  13,\n",
              "        14,  15,  16,  17,  18,  19,  20,  21,  22,  23,  24,  25,  26,\n",
              "        27,  28,  29,  30,  31,  32,  33,  34,  35,  36,  37,  38,  39,\n",
              "        40,  41,  42,  43,  44,  45,  46,  47,  48,  49,  50,  51,  52,\n",
              "        53,  54,  55,  56,  57,  58,  59,  60,  61,  62,  63,  64,  65,\n",
              "        66,  67,  68,  69,  70,  71,  72,  73,  74,  75,  76,  77,  78,\n",
              "        79,  80,  81,  82,  83,  84,  85,  86,  87,  88,  89,  90,  91,\n",
              "        92,  93,  94,  95,  96,  97,  98,  99, 100])"
            ]
          },
          "metadata": {
            "tags": []
          },
          "execution_count": 7
        }
      ]
    },
    {
      "cell_type": "code",
      "metadata": {
        "id": "UP8BARVZb_wE",
        "outputId": "0c1803e4-e0d5-4a3e-d40c-51ca8bc72ca3",
        "colab": {
          "base_uri": "https://localhost:8080/",
          "height": 34
        }
      },
      "source": [
        "arr_2 = np.zeros(5)\n",
        "arr_2"
      ],
      "execution_count": null,
      "outputs": [
        {
          "output_type": "execute_result",
          "data": {
            "text/plain": [
              "array([0., 0., 0., 0., 0.])"
            ]
          },
          "metadata": {
            "tags": []
          },
          "execution_count": 9
        }
      ]
    },
    {
      "cell_type": "markdown",
      "metadata": {
        "id": "3gxN51KiuXT4"
      },
      "source": [
        "### Create following 2d arrays\n",
        "\n",
        "```\n",
        "array([[31, 22, 48],\n",
        "       [52, 33, 40],\n",
        "       [72,  8, 37]])\n",
        "\n",
        "array([[0., 0., 0., 0., 0.],\n",
        "       [0., 0., 0., 0., 0.],\n",
        "       [0., 0., 0., 0., 0.],\n",
        "       [0., 0., 0., 0., 0.]])\n",
        "\n",
        "array([[ 0,  1,  2,  3],\n",
        "       [ 4,  5,  6,  7],\n",
        "       [ 8,  9, 10, 11],\n",
        "       [12, 13, 14, 15],\n",
        "       [16, 17, 18, 19],\n",
        "       [20, 21, 22, 23]])\n",
        "\n",
        "```"
      ]
    },
    {
      "cell_type": "code",
      "metadata": {
        "id": "0ed7y1ozuVg7",
        "outputId": "e8e924df-76dd-451f-85b4-6638e6339e80",
        "colab": {
          "base_uri": "https://localhost:8080/",
          "height": 67
        }
      },
      "source": [
        "arr_3 = np.random.randint(8,52,9)\n",
        "arr_3\n",
        "np.reshape(arr_3,(3,3))"
      ],
      "execution_count": null,
      "outputs": [
        {
          "output_type": "execute_result",
          "data": {
            "text/plain": [
              "array([[11, 44, 20],\n",
              "       [35, 17, 14],\n",
              "       [51, 44, 42]])"
            ]
          },
          "metadata": {
            "tags": []
          },
          "execution_count": 17
        }
      ]
    },
    {
      "cell_type": "code",
      "metadata": {
        "id": "9nH2adSndp0l",
        "outputId": "c421e048-7636-4b3f-b72b-e5d43add440c",
        "colab": {
          "base_uri": "https://localhost:8080/",
          "height": 84
        }
      },
      "source": [
        "np.zeros(20).reshape(4,5)"
      ],
      "execution_count": null,
      "outputs": [
        {
          "output_type": "execute_result",
          "data": {
            "text/plain": [
              "array([[0., 0., 0., 0., 0.],\n",
              "       [0., 0., 0., 0., 0.],\n",
              "       [0., 0., 0., 0., 0.],\n",
              "       [0., 0., 0., 0., 0.]])"
            ]
          },
          "metadata": {
            "tags": []
          },
          "execution_count": 23
        }
      ]
    },
    {
      "cell_type": "code",
      "metadata": {
        "id": "G2jsHYnPd-DE",
        "outputId": "eca22cee-2315-4110-9c71-9c1abfab59e7",
        "colab": {
          "base_uri": "https://localhost:8080/",
          "height": 118
        }
      },
      "source": [
        "np.arange(0,24).reshape(6,4)"
      ],
      "execution_count": null,
      "outputs": [
        {
          "output_type": "execute_result",
          "data": {
            "text/plain": [
              "array([[ 0,  1,  2,  3],\n",
              "       [ 4,  5,  6,  7],\n",
              "       [ 8,  9, 10, 11],\n",
              "       [12, 13, 14, 15],\n",
              "       [16, 17, 18, 19],\n",
              "       [20, 21, 22, 23]])"
            ]
          },
          "metadata": {
            "tags": []
          },
          "execution_count": 21
        }
      ]
    },
    {
      "cell_type": "markdown",
      "metadata": {
        "id": "UndpTevKwPfi"
      },
      "source": [
        "### Generate arrays with random numbers\n",
        "\n",
        "- 1d array with 10 numbers from random uniform distribution\n",
        "- 1d array with 25 numbers from normal distribution\n",
        "- 4 x 5 array from random integer in [0, 100]"
      ]
    },
    {
      "cell_type": "code",
      "metadata": {
        "id": "aOfOmouhvlXu",
        "outputId": "b6ebb1c5-f0f7-45e4-c876-f51672b22679",
        "colab": {
          "base_uri": "https://localhost:8080/",
          "height": 50
        }
      },
      "source": [
        "unif = np.random.rand(10)\n",
        "unif"
      ],
      "execution_count": null,
      "outputs": [
        {
          "output_type": "execute_result",
          "data": {
            "text/plain": [
              "array([0.99471644, 0.58657874, 0.05702379, 0.35985593, 0.6565951 ,\n",
              "       0.50863838, 0.83508022, 0.40923441, 0.68333472, 0.60786048])"
            ]
          },
          "metadata": {
            "tags": []
          },
          "execution_count": 26
        }
      ]
    },
    {
      "cell_type": "code",
      "metadata": {
        "id": "zqGBvAfFewdZ",
        "outputId": "60c9829a-d8fa-4ab4-ce14-06b8230b52bb",
        "colab": {
          "base_uri": "https://localhost:8080/",
          "height": 101
        }
      },
      "source": [
        "nd = np.random.randn(25)\n",
        "nd"
      ],
      "execution_count": null,
      "outputs": [
        {
          "output_type": "execute_result",
          "data": {
            "text/plain": [
              "array([-1.91640115, -0.38719739, -0.08679969,  0.02689609, -0.5258109 ,\n",
              "        1.78834857,  2.65787992,  2.25154085, -1.1278204 , -2.48050057,\n",
              "        0.62863857, -0.67074602, -0.89405586,  1.02864853, -0.04105639,\n",
              "       -0.29604776, -0.21475604,  0.29723058,  1.53125674, -0.62252134,\n",
              "        1.04812634, -0.46758593,  1.29252113, -1.27707191,  1.45679057])"
            ]
          },
          "metadata": {
            "tags": []
          },
          "execution_count": 27
        }
      ]
    },
    {
      "cell_type": "code",
      "metadata": {
        "id": "33Bcz9kIe2Th",
        "outputId": "6f367ad8-3edd-42f8-bb47-374836ea3096",
        "colab": {
          "base_uri": "https://localhost:8080/",
          "height": 84
        }
      },
      "source": [
        "np.random.randint(0,100,20).reshape(4,5)"
      ],
      "execution_count": null,
      "outputs": [
        {
          "output_type": "execute_result",
          "data": {
            "text/plain": [
              "array([[65, 31, 23, 27, 13],\n",
              "       [13, 45, 52, 32, 43],\n",
              "       [56, 92, 60, 79, 79],\n",
              "       [94, 37, 45, 94, 99]])"
            ]
          },
          "metadata": {
            "tags": []
          },
          "execution_count": 29
        }
      ]
    },
    {
      "cell_type": "markdown",
      "metadata": {
        "id": "9SeTuV27ba77"
      },
      "source": [
        "## Array Indexing\n"
      ]
    },
    {
      "cell_type": "markdown",
      "metadata": {
        "id": "x5yIpaijg5TU"
      },
      "source": [
        "\n",
        "### 1d array indexing \n",
        "\n",
        "- From the following array, extract the elements shown below "
      ]
    },
    {
      "cell_type": "code",
      "metadata": {
        "id": "b5uC3m9Qbcy0"
      },
      "source": [
        "arr_1d = np.array([41, 42, 43, 44, 45, 46, 47, 48, 49, 50, 51, 52, \n",
        "                   53, 54, 55, 56, 57, 58, 59, 60])"
      ],
      "execution_count": null,
      "outputs": []
    },
    {
      "cell_type": "markdown",
      "metadata": {
        "id": "8hizvuB7c44I"
      },
      "source": [
        "1. \n",
        "    ```\n",
        "    array([41, 42, 43, 44])\n",
        "    ```\n",
        "1. \n",
        "    ```\n",
        "    array([56, 57, 58, 59, 60])\n",
        "    ```\n",
        "1. \n",
        "    ```\n",
        "    array([51, 52, 53])\n",
        "    ```\n",
        "1. \n",
        "    ```\n",
        "    array([42, 55, 49])\n",
        "    ```\n"
      ]
    },
    {
      "cell_type": "code",
      "metadata": {
        "id": "mPqJRC5Xfc8P",
        "outputId": "c8e60f0e-0419-4d39-db4e-2ce23ef3509a",
        "colab": {
          "base_uri": "https://localhost:8080/",
          "height": 34
        }
      },
      "source": [
        "arr_1d[0:5]"
      ],
      "execution_count": null,
      "outputs": [
        {
          "output_type": "execute_result",
          "data": {
            "text/plain": [
              "array([41, 42, 43, 44, 45])"
            ]
          },
          "metadata": {
            "tags": []
          },
          "execution_count": 31
        }
      ]
    },
    {
      "cell_type": "code",
      "metadata": {
        "id": "NXHdwj4xfpq9",
        "outputId": "f4722bee-1aef-42f9-914b-9f461971d295",
        "colab": {
          "base_uri": "https://localhost:8080/",
          "height": 34
        }
      },
      "source": [
        "arr_1d[-5:]"
      ],
      "execution_count": null,
      "outputs": [
        {
          "output_type": "execute_result",
          "data": {
            "text/plain": [
              "array([56, 57, 58, 59, 60])"
            ]
          },
          "metadata": {
            "tags": []
          },
          "execution_count": 33
        }
      ]
    },
    {
      "cell_type": "code",
      "metadata": {
        "id": "C0xbHe0Xf4B0",
        "outputId": "c2eb5e12-55db-4461-9a3d-bc96b6a9fe79",
        "colab": {
          "base_uri": "https://localhost:8080/",
          "height": 34
        }
      },
      "source": [
        "arr_1d[10:13]"
      ],
      "execution_count": null,
      "outputs": [
        {
          "output_type": "execute_result",
          "data": {
            "text/plain": [
              "array([51, 52, 53])"
            ]
          },
          "metadata": {
            "tags": []
          },
          "execution_count": 41
        }
      ]
    },
    {
      "cell_type": "code",
      "metadata": {
        "id": "hKcTEl7thJFg",
        "outputId": "2bab9913-6706-477a-a6de-4ffa150f2fbc",
        "colab": {
          "base_uri": "https://localhost:8080/",
          "height": 34
        }
      },
      "source": [
        "arr_1d[[1,15,9]]"
      ],
      "execution_count": null,
      "outputs": [
        {
          "output_type": "execute_result",
          "data": {
            "text/plain": [
              "array([42, 56, 50])"
            ]
          },
          "metadata": {
            "tags": []
          },
          "execution_count": 43
        }
      ]
    },
    {
      "cell_type": "markdown",
      "metadata": {
        "id": "Z-1IJ3bpgzO1"
      },
      "source": [
        "### 2d array indexing\n",
        "\n",
        "- Do the same task for the following 2d array\n"
      ]
    },
    {
      "cell_type": "code",
      "metadata": {
        "id": "uDXhuohCbrTN"
      },
      "source": [
        "arr_2d = np.array([[11, 12, 13, 14, 15],\n",
        "       [21, 22, 23, 24, 25],\n",
        "       [31, 32, 33, 34, 35],\n",
        "       [41, 42, 43, 44, 45]])"
      ],
      "execution_count": null,
      "outputs": []
    },
    {
      "cell_type": "markdown",
      "metadata": {
        "id": "W1TgSJBEll7E"
      },
      "source": [
        "Using indexing, generate the following sub-arrays\n",
        "\n",
        "1. \n",
        "    ```\n",
        "    array([[31, 32, 33, 34, 35],\n",
        "          [41, 42, 43, 44, 45]])\n",
        "    ```\n",
        "1. \n",
        "    ```\n",
        "    array([[11, 12],\n",
        "          [21, 22],\n",
        "          [31, 32],\n",
        "          [41, 42]])    \n",
        "    ```\n",
        "1. \n",
        "    ```\n",
        "    array([[32, 33],\n",
        "           [42, 43]])\n",
        "    ```\n",
        "1. \n",
        "    ```\n",
        "    array([[23, 25],\n",
        "          [43, 45]])    \n",
        "    ```\n"
      ]
    },
    {
      "cell_type": "code",
      "metadata": {
        "id": "k6RPpG_2iC5k",
        "outputId": "a237971e-4855-464d-d136-b369b899923d",
        "colab": {
          "base_uri": "https://localhost:8080/",
          "height": 50
        }
      },
      "source": [
        "arr_2d[2:4]"
      ],
      "execution_count": null,
      "outputs": [
        {
          "output_type": "execute_result",
          "data": {
            "text/plain": [
              "array([[31, 32, 33, 34, 35],\n",
              "       [41, 42, 43, 44, 45]])"
            ]
          },
          "metadata": {
            "tags": []
          },
          "execution_count": 46
        }
      ]
    },
    {
      "cell_type": "code",
      "metadata": {
        "id": "77rycRjkiNbR",
        "outputId": "9f39b9c3-dafe-4105-bafc-72c838c04667",
        "colab": {
          "base_uri": "https://localhost:8080/",
          "height": 84
        }
      },
      "source": [
        "arr_2d[0:4,0:2]"
      ],
      "execution_count": null,
      "outputs": [
        {
          "output_type": "execute_result",
          "data": {
            "text/plain": [
              "array([[11, 12],\n",
              "       [21, 22],\n",
              "       [31, 32],\n",
              "       [41, 42]])"
            ]
          },
          "metadata": {
            "tags": []
          },
          "execution_count": 50
        }
      ]
    },
    {
      "cell_type": "code",
      "metadata": {
        "id": "7HrNqd47i-Ch",
        "outputId": "6dc9f86e-801a-404f-b126-53918b2b23aa",
        "colab": {
          "base_uri": "https://localhost:8080/",
          "height": 50
        }
      },
      "source": [
        "arr_2d[2:4,1:3]"
      ],
      "execution_count": null,
      "outputs": [
        {
          "output_type": "execute_result",
          "data": {
            "text/plain": [
              "array([[32, 33],\n",
              "       [42, 43]])"
            ]
          },
          "metadata": {
            "tags": []
          },
          "execution_count": 52
        }
      ]
    },
    {
      "cell_type": "code",
      "metadata": {
        "id": "Z8vcqvyXjQEV",
        "outputId": "7bfed7c1-287e-4d2a-f222-0efcf0fcbcb4",
        "colab": {
          "base_uri": "https://localhost:8080/",
          "height": 50
        }
      },
      "source": [
        "arr_2d[[1,3]][:,[2,4]]"
      ],
      "execution_count": null,
      "outputs": [
        {
          "output_type": "execute_result",
          "data": {
            "text/plain": [
              "array([[23, 25],\n",
              "       [43, 45]])"
            ]
          },
          "metadata": {
            "tags": []
          },
          "execution_count": 67
        }
      ]
    },
    {
      "cell_type": "markdown",
      "metadata": {
        "id": "w9WRZ5QKmbF2"
      },
      "source": [
        ""
      ]
    },
    {
      "cell_type": "code",
      "metadata": {
        "id": "N5qSNNoVnGWS"
      },
      "source": [
        "arr_int = np.array([-448,  754,  990,   18, -689,  641, -199,  -44, -557, -222,  -18,\n",
        "       -687,  -69,  106,  821,  628, -427, -269, -624, -478,  886,  841,\n",
        "        999,   99,  964, -312,   42,  186,  298,  170, -441,  761,  900,\n",
        "       -207,  626, -322, -351,  169,  523, -131, -508,  181,  714,  171,\n",
        "       -131,  525,  810, -173,  424, -265,  242,  313,   57,  423,  685,\n",
        "        -16,  732,  372,  661,  654, -106,  443,  281, -125,  523,  476,\n",
        "        525,  577,  938, -140,  333,  180, -348,  591, -135,  961,  805,\n",
        "       -488, -422,  538, -433,  873,  568, -202, -181,  986,  769, -682,\n",
        "       -645,  883, -529,  -27,  656,  153, -165, -242, -678,  635, -135,\n",
        "        364])"
      ],
      "execution_count": null,
      "outputs": []
    },
    {
      "cell_type": "markdown",
      "metadata": {
        "id": "Zo6WfmKAmfwL"
      },
      "source": [
        "For the array above, find the following numbers\n",
        " - The max/min number\n",
        " - Standard deviation of the array\n",
        " - Mean \n"
      ]
    },
    {
      "cell_type": "code",
      "metadata": {
        "id": "eJln6H1bmaNH"
      },
      "source": [
        ""
      ],
      "execution_count": null,
      "outputs": []
    },
    {
      "cell_type": "markdown",
      "metadata": {
        "id": "olADoo_SnvoJ"
      },
      "source": [
        "## Array Operations (2d)\n"
      ]
    },
    {
      "cell_type": "code",
      "metadata": {
        "id": "Gl5NVNOtn3kq"
      },
      "source": [
        "arr_normal = np.array([[-1.35589711,  0.32804138, -0.42081221, -0.26130734,  0.70162537,\n",
        "        -2.74984249,  0.68124585, -0.1580792 , -0.14275744,  0.46342884,\n",
        "         0.86430316, -0.07669887],\n",
        "       [-0.74704059, -0.9071367 , -1.64174011,  0.03933122,  0.37675907,\n",
        "         1.90269555,  0.44306442,  0.57069955, -0.28930021, -1.65834518,\n",
        "         0.91165489, -0.24778658],\n",
        "       [ 0.84422231, -2.61441156, -0.25364573,  0.75980507,  0.81245918,\n",
        "         0.4495238 , -1.73419967,  0.06119128,  0.20092236, -0.02241897,\n",
        "        -0.35468241, -1.10875505],\n",
        "       [-1.2590743 , -1.798422  ,  0.29824561,  0.61399003, -2.84641582,\n",
        "        -0.06309182, -0.86245245, -2.00527547, -1.36537977,  1.81020212,\n",
        "         0.15409758,  0.77957902],\n",
        "       [ 0.33642384,  1.6658424 ,  1.01517418, -0.94632536, -0.67836296,\n",
        "        -1.58780134, -1.71699404,  0.19439649,  0.16351275, -2.08961948,\n",
        "        -0.67480237, -0.98241524],\n",
        "       [-0.97960876,  0.7256977 ,  0.2322489 , -0.79256359, -0.86636526,\n",
        "         1.01071361,  0.06147106,  0.31257068,  0.54583426, -0.8035504 ,\n",
        "         0.73390521,  0.05112845],\n",
        "       [-0.17791452, -0.92611399,  0.27351997,  0.25378587,  0.78804843,\n",
        "        -1.06393523,  2.65299826, -0.91232348, -2.93197926,  1.73152395,\n",
        "         0.59431283, -0.10374418],\n",
        "       [ 0.57609783,  0.51063139, -0.06848566,  2.65524085,  0.90236844,\n",
        "        -0.63241958,  0.99904813, -0.6191799 ,  0.44955157, -1.99264591,\n",
        "        -0.94398059, -0.68643509],\n",
        "       [ 0.0329195 , -0.64513047,  0.46339352,  0.22950196,  1.03883248,\n",
        "         2.09548912,  0.91148567, -1.05809727, -2.82315242, -1.24258192,\n",
        "         0.32577142, -0.56579935],\n",
        "       [ 0.76420142,  0.4468688 ,  0.69440669, -0.69501969,  0.99550496,\n",
        "         0.04774205, -0.38475403, -0.34571432, -1.54386284,  2.93070093,\n",
        "         0.55347872, -0.90081639]])"
      ],
      "execution_count": null,
      "outputs": []
    },
    {
      "cell_type": "code",
      "metadata": {
        "id": "m3u8m7zFqTDy",
        "outputId": "57d9895f-25e6-4b80-e732-25c652ecbd3a",
        "colab": {
          "base_uri": "https://localhost:8080/",
          "height": 34
        }
      },
      "source": [
        "arr_normal.shape"
      ],
      "execution_count": null,
      "outputs": [
        {
          "output_type": "execute_result",
          "data": {
            "text/plain": [
              "(10, 12)"
            ]
          },
          "metadata": {
            "tags": []
          },
          "execution_count": 84
        }
      ]
    },
    {
      "cell_type": "markdown",
      "metadata": {
        "id": "3XUvKcjepR2f"
      },
      "source": [
        "For the array above, find the following numbers\n",
        " - The max/min number \n",
        "    - in the entire array\n",
        "    - in each row\n",
        "    - in each column\n",
        " - Mean of \n",
        "    - the entire array\n",
        "    - each row \n",
        "    - each column\n"
      ]
    },
    {
      "cell_type": "code",
      "metadata": {
        "id": "c7H25CyqxEnT",
        "outputId": "ef16c30b-0464-4dd2-c969-557e7be34a08",
        "colab": {
          "base_uri": "https://localhost:8080/",
          "height": 67
        }
      },
      "source": [
        "print(\"Mean:\",np.mean(arr_normal))\n",
        "print(\"Max:\",np.max(arr_normal))\n",
        "print(\"Min:\",np.min(arr_normal))"
      ],
      "execution_count": null,
      "outputs": [
        {
          "output_type": "stream",
          "text": [
            "Mean: -0.1274502665833333\n",
            "Max: 2.93070093\n",
            "Min: -2.93197926\n"
          ],
          "name": "stdout"
        }
      ]
    },
    {
      "cell_type": "code",
      "metadata": {
        "id": "D9M9HmmqmHDw",
        "outputId": "295725ea-2e7b-4030-e2b6-0e353a32e939",
        "colab": {
          "base_uri": "https://localhost:8080/",
          "height": 521
        }
      },
      "source": [
        "for i in range(10):\n",
        "  j = i + 1\n",
        "  print(\"Row\",j,\"- Mean:\",np.mean(arr_normal[i:j]))\n",
        "  print(\"Row\",j,\"- Max:\",np.max(arr_normal[i:j]))\n",
        "  print(\"Row\",j,\"- Min:\",np.mean(arr_normal[i:j]))"
      ],
      "execution_count": null,
      "outputs": [
        {
          "output_type": "stream",
          "text": [
            "Row 1 - Mean: -0.17722917166666666\n",
            "Row 1 - Max: 0.86430316\n",
            "Row 1 - Min: -0.17722917166666666\n",
            "Row 2 - Mean: -0.10392872249999997\n",
            "Row 2 - Max: 1.90269555\n",
            "Row 2 - Min: -0.10392872249999997\n",
            "Row 3 - Mean: -0.2466657825\n",
            "Row 3 - Max: 0.84422231\n",
            "Row 3 - Min: -0.2466657825\n",
            "Row 4 - Mean: -0.5453331058333334\n",
            "Row 4 - Max: 1.81020212\n",
            "Row 4 - Min: -0.5453331058333334\n",
            "Row 5 - Mean: -0.4417475941666667\n",
            "Row 5 - Max: 1.6658424\n",
            "Row 5 - Min: -0.4417475941666667\n",
            "Row 6 - Mean: 0.019290155000000003\n",
            "Row 6 - Max: 1.01071361\n",
            "Row 6 - Min: 0.019290155000000003\n",
            "Row 7 - Mean: 0.014848220833333337\n",
            "Row 7 - Max: 2.65299826\n",
            "Row 7 - Min: 0.014848220833333337\n",
            "Row 8 - Mean: 0.09581595666666665\n",
            "Row 8 - Max: 2.65524085\n",
            "Row 8 - Min: 0.09581595666666665\n",
            "Row 9 - Mean: -0.10311398\n",
            "Row 9 - Max: 2.09548912\n",
            "Row 9 - Min: -0.10311398\n",
            "Row 10 - Mean: 0.21356135833333334\n",
            "Row 10 - Max: 2.93070093\n",
            "Row 10 - Min: 0.21356135833333334\n"
          ],
          "name": "stdout"
        }
      ]
    },
    {
      "cell_type": "code",
      "metadata": {
        "id": "8EFl7OpLoa5H",
        "outputId": "e9b474c2-236d-4358-ba43-a6f62488e3d8",
        "colab": {
          "base_uri": "https://localhost:8080/",
          "height": 622
        }
      },
      "source": [
        "for i in range(12):\n",
        "  j = i + 1\n",
        "  print(\"column\",j,\"- Mean:\",np.mean(arr_normal[0:11,i:j]))\n",
        "  print(\"column\",j,\"- Max:\",np.max(arr_normal[0:11,i:j]))\n",
        "  print(\"column\",j,\"- Min:\",np.min(arr_normal[0:11,i:j]))"
      ],
      "execution_count": null,
      "outputs": [
        {
          "output_type": "stream",
          "text": [
            "column 1 - Mean: -0.19656703799999997\n",
            "column 1 - Max: 0.84422231\n",
            "column 1 - Min: -1.35589711\n",
            "column 2 - Mean: -0.3214133049999999\n",
            "column 2 - Max: 1.6658424\n",
            "column 2 - Min: -2.61441156\n",
            "column 3 - Mean: 0.059230516\n",
            "column 3 - Max: 1.01517418\n",
            "column 3 - Min: -1.64174011\n",
            "column 4 - Mean: 0.18564390199999997\n",
            "column 4 - Max: 2.65524085\n",
            "column 4 - Min: -0.94632536\n",
            "column 5 - Mean: 0.12244538899999999\n",
            "column 5 - Max: 1.03883248\n",
            "column 5 - Min: -2.84641582\n",
            "column 6 - Mean: -0.05909263299999995\n",
            "column 6 - Max: 2.09548912\n",
            "column 6 - Min: -2.74984249\n",
            "column 7 - Mean: 0.10509131999999996\n",
            "column 7 - Max: 2.65299826\n",
            "column 7 - Min: -1.73419967\n",
            "column 8 - Mean: -0.395981164\n",
            "column 8 - Max: 0.57069955\n",
            "column 8 - Min: -2.00527547\n",
            "column 9 - Mean: -0.7736610999999999\n",
            "column 9 - Max: 0.54583426\n",
            "column 9 - Min: -2.93197926\n",
            "column 10 - Mean: -0.08733060200000006\n",
            "column 10 - Max: 2.93070093\n",
            "column 10 - Min: -2.08961948\n",
            "column 11 - Mean: 0.21640584399999999\n",
            "column 11 - Max: 0.91165489\n",
            "column 11 - Min: -0.94398059\n",
            "column 12 - Mean: -0.384174328\n",
            "column 12 - Max: 0.77957902\n",
            "column 12 - Min: -1.10875505\n"
          ],
          "name": "stdout"
        }
      ]
    },
    {
      "cell_type": "markdown",
      "metadata": {
        "id": "zhajIm8uhiVI"
      },
      "source": [
        "# Control Sequences (optional)\n",
        "\n",
        "## Programming FizzBuzz\n",
        "\n",
        "Write a code for FizzBuzz. The definition of the program is:\n",
        "\n",
        "> A program that prints the numbers from 1 to 100. But for multiples of three print “Fizz” instead of the number and for the multiples of five print “Buzz”. For numbers which are multiples of both three and five print “FizzBuzz”. (from [here](https://www.tomdalling.com/blog/software-design/fizzbuzz-in-too-much-detail/#:~:text=FizzBuzz%20is%20a%20very%20simple,numbers%20from%201%20to%20100))\n",
        "\n",
        "##### Note:\n",
        "\n",
        "- You can find numerous examples online, but please try by yourself :)\n",
        "- The output is like:\n",
        "    ```\n",
        "    [1, 2, 'Fizz', 4, 'Buzz', 'Fizz', 7, 8, 'Fizz', 'Buzz', 11, 'Fizz', 13, 14,\n",
        "     'FizzBuzz', 16, 17, 'Fizz', 19, 'Buzz', 'Fizz', 22, 23, 'Fizz', 'Buzz', \n",
        "     26, 'Fizz', 28, 29, 'FizzBuzz', 31, 32, 'Fizz', 34, 'Buzz', 'Fizz', 37, \n",
        "     38, 'Fizz', 'Buzz', 41, 'Fizz', 43, 44, 'FizzBuzz', 46, 47, 'Fizz', 49, \n",
        "     'Buzz', 'Fizz', 52, 53, 'Fizz', 'Buzz', 56, 'Fizz', 58, 59, 'FizzBuzz', \n",
        "     61, 62, 'Fizz', 64, 'Buzz', 'Fizz', 67, 68, 'Fizz', 'Buzz', 71, 'Fizz', \n",
        "     73, 74, 'FizzBuzz', 76, 77, 'Fizz', 79, 'Buzz', 'Fizz', 82, 83, 'Fizz', \n",
        "     'Buzz', 86, 'Fizz', 88, 89, 'FizzBuzz', 91, 92, 'Fizz', 94, 'Buzz', \n",
        "     'Fizz', 97, 98, 'Fizz']\n",
        "    ```\n",
        "- You need to know how to use `%` (Modulus) operator ([Link](https://www.tutorialspoint.com/python/python_basic_operators.htm))\n",
        "\n"
      ]
    },
    {
      "cell_type": "code",
      "metadata": {
        "id": "ASi7d1p-kDyw",
        "outputId": "af2729a3-04a0-4b2f-d1c1-9927a22b9639",
        "colab": {
          "base_uri": "https://localhost:8080/",
          "height": 168
        }
      },
      "source": [
        "nset = np.arange(1,100)\n",
        "newset = []\n",
        "for p in nset:\n",
        "  if p % 15 == 0:\n",
        "    newset.append(\"FizzBuzz\")\n",
        "  elif p % 3 == 0:\n",
        "    newset.append(\"Fizz\")\n",
        "  elif p % 5 == 0:\n",
        "    newset.append(\"Buzz\")\n",
        "  else:\n",
        "    newset.append(p)\n",
        "print(np.reshape(newset,(9,11)))"
      ],
      "execution_count": 10,
      "outputs": [
        {
          "output_type": "stream",
          "text": [
            "[['1' '2' 'Fizz' '4' 'Buzz' 'Fizz' '7' '8' 'Fizz' 'Buzz' '11']\n",
            " ['Fizz' '13' '14' 'FizzBuzz' '16' '17' 'Fizz' '19' 'Buzz' 'Fizz' '22']\n",
            " ['23' 'Fizz' 'Buzz' '26' 'Fizz' '28' '29' 'FizzBuzz' '31' '32' 'Fizz']\n",
            " ['34' 'Buzz' 'Fizz' '37' '38' 'Fizz' 'Buzz' '41' 'Fizz' '43' '44']\n",
            " ['FizzBuzz' '46' '47' 'Fizz' '49' 'Buzz' 'Fizz' '52' '53' 'Fizz' 'Buzz']\n",
            " ['56' 'Fizz' '58' '59' 'FizzBuzz' '61' '62' 'Fizz' '64' 'Buzz' 'Fizz']\n",
            " ['67' '68' 'Fizz' 'Buzz' '71' 'Fizz' '73' '74' 'FizzBuzz' '76' '77']\n",
            " ['Fizz' '79' 'Buzz' 'Fizz' '82' '83' 'Fizz' 'Buzz' '86' 'Fizz' '88']\n",
            " ['89' 'FizzBuzz' '91' '92' 'Fizz' '94' 'Buzz' 'Fizz' '97' '98' 'Fizz']]\n"
          ],
          "name": "stdout"
        }
      ]
    }
  ]
}